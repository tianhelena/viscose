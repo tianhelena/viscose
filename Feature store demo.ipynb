{
 "cells": [
  {
   "cell_type": "code",
   "execution_count": 238,
   "id": "e1cd685c-2517-42a3-9b35-9cf85f057298",
   "metadata": {
    "tags": []
   },
   "outputs": [],
   "source": [
    "# SageMaker Python SDK version 2.x is required\n",
    "import sagemaker\n",
    "import sys\n",
    "import sagemaker_datawrangler           # For interactive data prep widget\n",
    "import numpy as np                                # For matrix operations and numerical processing\n",
    "import pandas as pd                               # For munging tabular data\n",
    "import matplotlib.pyplot as plt                   # For charts and visualizations\n",
    "from IPython.display import Image                 # For displaying images in the notebook\n",
    "from IPython.display import display               # For displaying outputs in the notebook\n",
    "from time import gmtime, strftime                 # For labeling SageMaker models, endpoints, etc.\n",
    "import sys                                        # For writing outputs to notebook\n",
    "import math                                       # For ceiling function\n",
    "import json                                       # For parsing hosting outputs\n",
    "import os                                         # For manipulating filepath names\n",
    "import sagemaker \n",
    "import zipfile   \n",
    "import time\n",
    "from time import strftime, gmtime\n",
    "import boto3\n",
    "import pandas as pd\n",
    "import numpy as np\n",
    "import io\n",
    "from sagemaker.session import Session\n",
    "from sagemaker import get_execution_role\n",
    "from sagemaker.feature_store.feature_group import FeatureGroup"
   ]
  },
  {
   "cell_type": "code",
   "execution_count": 239,
   "id": "7b98ac15-89d4-4a72-a94c-349b15e39728",
   "metadata": {
    "tags": []
   },
   "outputs": [],
   "source": [
    "prefix = 'sagemaker-featurestore-introduction'\n",
    "role = get_execution_role()\n",
    "sagemaker_session = sagemaker.Session()\n",
    "region = sagemaker_session.boto_region_name\n",
    "s3_bucket_name = sagemaker_session.default_bucket()"
   ]
  },
  {
   "cell_type": "markdown",
   "id": "9a00f71e-929f-4762-8b8b-b5ffefaad834",
   "metadata": {
    "tags": []
   },
   "source": [
    "# Create Features and Save into Feature Store"
   ]
  },
  {
   "cell_type": "markdown",
   "id": "b2dfd1c6-cff5-45ee-bcad-9545e5aa8c30",
   "metadata": {},
   "source": [
    "### Import data"
   ]
  },
  {
   "cell_type": "code",
   "execution_count": 240,
   "id": "1cdb51ea-1321-412d-ab54-ccd668c84fef",
   "metadata": {
    "tags": []
   },
   "outputs": [
    {
     "name": "stdout",
     "output_type": "stream",
     "text": [
      "--2023-08-31 01:22:44--  https://sagemaker-sample-data-us-west-2.s3-us-west-2.amazonaws.com/autopilot/direct_marketing/bank-additional.zip\n",
      "Resolving sagemaker-sample-data-us-west-2.s3-us-west-2.amazonaws.com (sagemaker-sample-data-us-west-2.s3-us-west-2.amazonaws.com)... 52.92.241.146, 3.5.77.165, 3.5.78.111, ...\n",
      "Connecting to sagemaker-sample-data-us-west-2.s3-us-west-2.amazonaws.com (sagemaker-sample-data-us-west-2.s3-us-west-2.amazonaws.com)|52.92.241.146|:443... connected.\n",
      "HTTP request sent, awaiting response... 200 OK\n",
      "Length: 432828 (423K) [application/zip]\n",
      "Saving to: ‘bank-additional.zip.7’\n",
      "\n",
      "bank-additional.zip 100%[===================>] 422.68K  1.64MB/s    in 0.3s    \n",
      "\n",
      "2023-08-31 01:22:45 (1.64 MB/s) - ‘bank-additional.zip.7’ saved [432828/432828]\n",
      "\n"
     ]
    }
   ],
   "source": [
    "!wget https://sagemaker-sample-data-us-west-2.s3-us-west-2.amazonaws.com/autopilot/direct_marketing/bank-additional.zip\n",
    "with zipfile.ZipFile('bank-additional.zip', 'r') as zip_ref:\n",
    "    zip_ref.extractall('.')"
   ]
  },
  {
   "cell_type": "code",
   "execution_count": 241,
   "id": "8543b268-64af-41c7-b828-b5652ff44a46",
   "metadata": {
    "tags": []
   },
   "outputs": [],
   "source": [
    "df = pd.read_csv('./bank-additional/bank-additional-full.csv')\n",
    "pd.set_option('display.max_columns', 50)    \n",
    "pd.set_option('display.max_rows', 5)       "
   ]
  },
  {
   "cell_type": "markdown",
   "id": "500c56ab-9a6d-4a5b-857d-4fa03a4ffb9d",
   "metadata": {
    "tags": []
   },
   "source": [
    "### Feature Transformation"
   ]
  },
  {
   "cell_type": "code",
   "execution_count": 242,
   "id": "d532eb14-28e3-47ba-988b-b8664598b1ec",
   "metadata": {
    "tags": []
   },
   "outputs": [],
   "source": [
    "df['no_previous_contact'] = np.where(df['pdays'] == 999, 1, 0)                                 # Indicator variable to capture when pdays takes a value of 999\n",
    "df['not_working'] = np.where(np.in1d(df['job'], ['student', 'retired', 'unemployed']), 1, 0) "
   ]
  },
  {
   "cell_type": "code",
   "execution_count": 243,
   "id": "23437230-795a-493f-99fb-bc20e285e477",
   "metadata": {
    "tags": []
   },
   "outputs": [],
   "source": [
    "df.drop(columns=['duration','emp.var.rate','cons.price.idx','cons.conf.idx','nr.employed'], inplace=True)"
   ]
  },
  {
   "cell_type": "code",
   "execution_count": 244,
   "id": "34292166-9e2c-4ba0-9564-dcd7ebbaa44d",
   "metadata": {
    "tags": []
   },
   "outputs": [],
   "source": [
    "df.columns = [col.replace('.', '_') for col in df.columns]"
   ]
  },
  {
   "cell_type": "markdown",
   "id": "fa760d63-d407-4cef-9781-6ca81c434e55",
   "metadata": {
    "tags": []
   },
   "source": [
    "### Create unique ID and timestamp"
   ]
  },
  {
   "cell_type": "code",
   "execution_count": 245,
   "id": "347ff313-2231-4cb7-9a77-d69dfb3f1730",
   "metadata": {
    "tags": []
   },
   "outputs": [],
   "source": [
    "df['FS_ID'] = df.index + 1000\n",
    "current_time_sec = int(round(time.time()))\n",
    "df['FS_time'] = pd.Series([current_time_sec]*len(df), dtype=\"float64\") "
   ]
  },
  {
   "cell_type": "markdown",
   "id": "9a56b55d-d119-4911-ae6b-8d2f15333ad5",
   "metadata": {},
   "source": [
    "### Generate Feature Group"
   ]
  },
  {
   "cell_type": "code",
   "execution_count": 246,
   "id": "b1bb15c4-d09e-4b1b-b353-0ab013b07300",
   "metadata": {
    "tags": []
   },
   "outputs": [],
   "source": [
    "customers_feature_group_name = 'customers-feature-group-' + strftime('%d-%H-%M-%S', gmtime())"
   ]
  },
  {
   "cell_type": "code",
   "execution_count": 247,
   "id": "3b1990b6-2e67-41d6-8df7-3367c77b97f8",
   "metadata": {
    "tags": []
   },
   "outputs": [],
   "source": [
    "customers_feature_group = FeatureGroup(\n",
    "    name=customers_feature_group_name, sagemaker_session=sagemaker_session\n",
    ")"
   ]
  },
  {
   "cell_type": "code",
   "execution_count": 248,
   "id": "29206448-00d4-4b33-a2f6-034fa0922060",
   "metadata": {
    "tags": []
   },
   "outputs": [
    {
     "data": {
      "text/plain": [
       "[FeatureDefinition(feature_name='age', feature_type=<FeatureTypeEnum.INTEGRAL: 'Integral'>),\n",
       " FeatureDefinition(feature_name='job', feature_type=<FeatureTypeEnum.STRING: 'String'>),\n",
       " FeatureDefinition(feature_name='marital', feature_type=<FeatureTypeEnum.STRING: 'String'>),\n",
       " FeatureDefinition(feature_name='education', feature_type=<FeatureTypeEnum.STRING: 'String'>),\n",
       " FeatureDefinition(feature_name='default', feature_type=<FeatureTypeEnum.STRING: 'String'>),\n",
       " FeatureDefinition(feature_name='housing', feature_type=<FeatureTypeEnum.STRING: 'String'>),\n",
       " FeatureDefinition(feature_name='loan', feature_type=<FeatureTypeEnum.STRING: 'String'>),\n",
       " FeatureDefinition(feature_name='contact', feature_type=<FeatureTypeEnum.STRING: 'String'>),\n",
       " FeatureDefinition(feature_name='month', feature_type=<FeatureTypeEnum.STRING: 'String'>),\n",
       " FeatureDefinition(feature_name='day_of_week', feature_type=<FeatureTypeEnum.STRING: 'String'>),\n",
       " FeatureDefinition(feature_name='campaign', feature_type=<FeatureTypeEnum.INTEGRAL: 'Integral'>),\n",
       " FeatureDefinition(feature_name='pdays', feature_type=<FeatureTypeEnum.INTEGRAL: 'Integral'>),\n",
       " FeatureDefinition(feature_name='previous', feature_type=<FeatureTypeEnum.INTEGRAL: 'Integral'>),\n",
       " FeatureDefinition(feature_name='poutcome', feature_type=<FeatureTypeEnum.STRING: 'String'>),\n",
       " FeatureDefinition(feature_name='euribor3m', feature_type=<FeatureTypeEnum.FRACTIONAL: 'Fractional'>),\n",
       " FeatureDefinition(feature_name='y', feature_type=<FeatureTypeEnum.STRING: 'String'>),\n",
       " FeatureDefinition(feature_name='no_previous_contact', feature_type=<FeatureTypeEnum.INTEGRAL: 'Integral'>),\n",
       " FeatureDefinition(feature_name='not_working', feature_type=<FeatureTypeEnum.INTEGRAL: 'Integral'>),\n",
       " FeatureDefinition(feature_name='FS_ID', feature_type=<FeatureTypeEnum.INTEGRAL: 'Integral'>),\n",
       " FeatureDefinition(feature_name='FS_time', feature_type=<FeatureTypeEnum.FRACTIONAL: 'Fractional'>)]"
      ]
     },
     "execution_count": 248,
     "metadata": {},
     "output_type": "execute_result"
    }
   ],
   "source": [
    "customers_feature_group.load_feature_definitions(data_frame=df)"
   ]
  },
  {
   "cell_type": "code",
   "execution_count": 249,
   "id": "8ba42ab9-ec89-4c73-9b1b-9537f97d77ed",
   "metadata": {
    "tags": []
   },
   "outputs": [
    {
     "data": {
      "text/plain": [
       "{'FeatureGroupArn': 'arn:aws:sagemaker:us-east-1:996025384640:feature-group/customers-feature-group-31-01-24-13',\n",
       " 'ResponseMetadata': {'RequestId': 'd18ea1f0-da1b-4032-a780-a5f08da83aec',\n",
       "  'HTTPStatusCode': 200,\n",
       "  'HTTPHeaders': {'x-amzn-requestid': 'd18ea1f0-da1b-4032-a780-a5f08da83aec',\n",
       "   'content-type': 'application/x-amz-json-1.1',\n",
       "   'content-length': '112',\n",
       "   'date': 'Thu, 31 Aug 2023 01:24:26 GMT'},\n",
       "  'RetryAttempts': 0}}"
      ]
     },
     "execution_count": 249,
     "metadata": {},
     "output_type": "execute_result"
    }
   ],
   "source": [
    "customers_feature_group.create(\n",
    "    s3_uri=f\"s3://{s3_bucket_name}/{prefix}\",\n",
    "    record_identifier_name='FS_ID',\n",
    "    event_time_feature_name='FS_time',\n",
    "    role_arn=role,\n",
    "    enable_online_store=True\n",
    ")"
   ]
  },
  {
   "cell_type": "code",
   "execution_count": null,
   "id": "19c21b38-e8f3-4c00-aa1f-974d8ca75d0d",
   "metadata": {
    "tags": []
   },
   "outputs": [],
   "source": [
    "customers_feature_group.ingest(data_frame = df, max_workers=10, wait=True)"
   ]
  },
  {
   "cell_type": "code",
   "execution_count": null,
   "id": "c25915c2-520b-45b0-afe8-a0d06454d536",
   "metadata": {
    "tags": []
   },
   "outputs": [],
   "source": [
    "print(customers_feature_group.describe().get(\"FeatureGroupName\"))\n",
    "print(customers_feature_group.describe().get( 'FeatureDefinitions'))"
   ]
  },
  {
   "cell_type": "markdown",
   "id": "dfc8d19e-72b9-482d-9eae-f23d68dc5ced",
   "metadata": {
    "tags": []
   },
   "source": [
    "# Retrieve Feature for Model Training"
   ]
  },
  {
   "cell_type": "code",
   "execution_count": 199,
   "id": "a5da25eb-5dc0-4388-9544-ea5fc3a83dbe",
   "metadata": {
    "tags": []
   },
   "outputs": [],
   "source": [
    "featurename=customers_feature_group.describe().get(\"FeatureGroupName\")\n"
   ]
  },
  {
   "cell_type": "code",
   "execution_count": 250,
   "id": "d0eab6e3-362a-4fe2-b875-2b445c92f950",
   "metadata": {
    "tags": []
   },
   "outputs": [],
   "source": [
    "featurename='customers-feature-group-31-00-56-43'"
   ]
  },
  {
   "cell_type": "code",
   "execution_count": 251,
   "id": "dc73360a-50c3-4293-8aaa-14760806878e",
   "metadata": {
    "tags": []
   },
   "outputs": [],
   "source": [
    "region = boto3.Session().region_name\n",
    "boto_session = boto3.Session(region_name=region)\n",
    "\n",
    "sagemaker_client = boto_session.client(service_name='sagemaker', region_name=region)\n",
    "featurestore_runtime = boto_session.client(service_name='sagemaker-featurestore-runtime', region_name=region)\n",
    "\n",
    "feature_store_session = Session(\n",
    "    boto_session=boto_session,\n",
    "    sagemaker_client=sagemaker_client,\n",
    "    sagemaker_featurestore_runtime_client=featurestore_runtime\n",
    ")"
   ]
  },
  {
   "cell_type": "code",
   "execution_count": 252,
   "id": "aa716f6c-c3fc-4add-ab10-404f1a9e6dae",
   "metadata": {
    "tags": []
   },
   "outputs": [
    {
     "name": "stdout",
     "output_type": "stream",
     "text": [
      "Running SELECT * FROM \"customers_feature_group_31_00_56_43_1693443414\"\n"
     ]
    }
   ],
   "source": [
    "# Build SQL query to features group\n",
    "feature_group_name =featurename\n",
    "feature_group = FeatureGroup(name=feature_group_name, sagemaker_session=feature_store_session)\n",
    "fs_query = feature_group.athena_query()\n",
    "fs_table = fs_query.table_name\n",
    "query_string = 'SELECT * FROM \"'+fs_table+'\"'\n",
    "print('Running ' + query_string)"
   ]
  },
  {
   "cell_type": "code",
   "execution_count": 233,
   "id": "4118c43f-fa19-47ed-9501-db8b21c36c1d",
   "metadata": {
    "tags": []
   },
   "outputs": [],
   "source": [
    "# Run Athena query. The output is loaded to a Pandas dataframe.\n",
    "bucket=sagemaker.Session().default_bucket()\n",
    "fs_query.run(query_string=query_string, output_location='s3://'+bucket+'/'+prefix+'/fs_query_results/')\n",
    "fs_query.wait()\n",
    "model_data = fs_query.as_dataframe()\n",
    "# model_data = model_data.drop(['fs_id', 'fs_time', 'write_time', 'api_invocation_time', 'is_deleted'], axis=1)"
   ]
  },
  {
   "cell_type": "code",
   "execution_count": 234,
   "id": "899702c0-97f9-4609-b517-a24d9a5abdfa",
   "metadata": {
    "tags": []
   },
   "outputs": [
    {
     "data": {
      "application/vnd.jupyter.widget-view+json": {
       "model_id": "fc4caa7b410b4e2a9d8ebf51159435f1"
      },
      "text/plain": [
       "    age          job  marital          education  default housing loan  \\\n",
       "0    33   technician   single  university.degree       no      no   no   \n",
       "1    28   unemployed   single        high.school       no     yes  yes   \n",
       "..  ...          ...      ...                ...      ...     ...  ...   \n",
       "18   37     services  married        high.school  unknown     yes   no   \n",
       "19   29  blue-collar   single        high.school       no     yes   no   \n",
       "\n",
       "      contact month day_of_week  campaign  pdays  previous     poutcome  \\\n",
       "0    cellular   aug         wed         1    999         0  nonexistent   \n",
       "1   telephone   may         mon         3    999         0  nonexistent   \n",
       "..        ...   ...         ...       ...    ...       ...          ...   \n",
       "18  telephone   may         mon         3    999         0  nonexistent   \n",
       "19  telephone   jun         tue         2    999         0  nonexistent   \n",
       "\n",
       "    euribor3m   y  no_previous_contact  not_working  fs_id       fs_time  \\\n",
       "0       4.965  no                    1            0  21609  1.693443e+09   \n",
       "1       4.858  no                    1            1   5132  1.693443e+09   \n",
       "..        ...  ..                  ...          ...    ...           ...   \n",
       "18      1.299  no                    1            0  34052  1.693443e+09   \n",
       "19      4.864  no                    1            0   9359  1.693443e+09   \n",
       "\n",
       "                 write_time      api_invocation_time  is_deleted  \n",
       "0   2023-08-31 01:14:35.764  2023-08-31 01:09:35.000       False  \n",
       "1   2023-08-31 01:14:35.764  2023-08-31 01:09:36.000       False  \n",
       "..                      ...                      ...         ...  \n",
       "18  2023-08-31 01:14:35.764  2023-08-31 01:09:38.000       False  \n",
       "19  2023-08-31 01:14:35.764  2023-08-31 01:09:38.000       False  \n",
       "\n",
       "[20 rows x 23 columns]"
      ]
     },
     "metadata": {},
     "output_type": "display_data"
    }
   ],
   "source": [
    "model_data.head(20)"
   ]
  },
  {
   "cell_type": "code",
   "execution_count": 235,
   "id": "180ca663-e26c-4f4c-ae23-c2a4fe24b53d",
   "metadata": {
    "tags": []
   },
   "outputs": [
    {
     "data": {
      "application/vnd.jupyter.widget-view+json": {
       "model_id": "51da8dbe3dfc4ce1a3301d874dbc05a5"
      },
      "text/plain": [
       "   age         job marital          education default housing loan    contact  \\\n",
       "0   33  technician  single  university.degree      no      no   no   cellular   \n",
       "1   28  unemployed  single        high.school      no     yes  yes  telephone   \n",
       "\n",
       "  month day_of_week  campaign  pdays  previous     poutcome  euribor3m   y  \\\n",
       "0   aug         wed         1    999         0  nonexistent      4.965  no   \n",
       "1   may         mon         3    999         0  nonexistent      4.858  no   \n",
       "\n",
       "   no_previous_contact  not_working  fs_id       fs_time  \\\n",
       "0                    1            0  21609  1.693443e+09   \n",
       "1                    1            1   5132  1.693443e+09   \n",
       "\n",
       "                write_time      api_invocation_time  is_deleted  \n",
       "0  2023-08-31 01:14:35.764  2023-08-31 01:09:35.000       False  \n",
       "1  2023-08-31 01:14:35.764  2023-08-31 01:09:36.000       False  "
      ]
     },
     "metadata": {},
     "output_type": "display_data"
    }
   ],
   "source": [
    "model_data[:2]"
   ]
  },
  {
   "cell_type": "markdown",
   "id": "8ce9f66d-f53f-4cd5-ba66-a3c36c7951bb",
   "metadata": {},
   "source": [
    "# Retrieve Feature for real-time inference"
   ]
  },
  {
   "cell_type": "code",
   "execution_count": 253,
   "id": "d4c4efc1-f1db-47f7-858f-a0d6f85f4f56",
   "metadata": {
    "tags": []
   },
   "outputs": [],
   "source": [
    "region = boto3.Session().region_name\n",
    "boto_session = boto3.Session(region_name=region)\n",
    "\n",
    "sagemaker_client = boto_session.client(service_name='sagemaker', region_name=region)\n",
    "featurestore_runtime = boto_session.client(service_name='sagemaker-featurestore-runtime', region_name=region)\n",
    "\n",
    "feature_store_session = Session(\n",
    "    boto_session=boto_session,\n",
    "    sagemaker_client=sagemaker_client,\n",
    "    sagemaker_featurestore_runtime_client=featurestore_runtime\n",
    ")\n",
    "\n",
    "feature_group_name =featurename\n",
    "feature_group = FeatureGroup(name=feature_group_name, sagemaker_session=feature_store_session)"
   ]
  },
  {
   "cell_type": "code",
   "execution_count": 254,
   "id": "8acbe0bc-f753-4cb3-a621-9de438fb34c1",
   "metadata": {
    "tags": []
   },
   "outputs": [],
   "source": [
    "record = feature_group.get_record('24663')"
   ]
  },
  {
   "cell_type": "code",
   "execution_count": 255,
   "id": "d4ccd61c-13b7-4803-8f6c-404122fc7a1c",
   "metadata": {
    "tags": []
   },
   "outputs": [
    {
     "data": {
      "text/plain": [
       "[{'FeatureName': 'age', 'ValueAsString': '35'},\n",
       " {'FeatureName': 'job', 'ValueAsString': 'technician'},\n",
       " {'FeatureName': 'marital', 'ValueAsString': 'single'},\n",
       " {'FeatureName': 'education', 'ValueAsString': 'university.degree'},\n",
       " {'FeatureName': 'default', 'ValueAsString': 'no'},\n",
       " {'FeatureName': 'housing', 'ValueAsString': 'yes'},\n",
       " {'FeatureName': 'loan', 'ValueAsString': 'no'},\n",
       " {'FeatureName': 'contact', 'ValueAsString': 'cellular'},\n",
       " {'FeatureName': 'month', 'ValueAsString': 'aug'},\n",
       " {'FeatureName': 'day_of_week', 'ValueAsString': 'thu'},\n",
       " {'FeatureName': 'campaign', 'ValueAsString': '17'},\n",
       " {'FeatureName': 'pdays', 'ValueAsString': '999'},\n",
       " {'FeatureName': 'previous', 'ValueAsString': '0'},\n",
       " {'FeatureName': 'poutcome', 'ValueAsString': 'nonexistent'},\n",
       " {'FeatureName': 'euribor3m', 'ValueAsString': '4.962'},\n",
       " {'FeatureName': 'y', 'ValueAsString': 'no'},\n",
       " {'FeatureName': 'no_previous_contact', 'ValueAsString': '1'},\n",
       " {'FeatureName': 'not_working', 'ValueAsString': '0'},\n",
       " {'FeatureName': 'FS_ID', 'ValueAsString': '24663'},\n",
       " {'FeatureName': 'FS_time', 'ValueAsString': '1693443390.0'}]"
      ]
     },
     "execution_count": 255,
     "metadata": {},
     "output_type": "execute_result"
    }
   ],
   "source": [
    "record"
   ]
  },
  {
   "cell_type": "markdown",
   "id": "264c6ffa-095c-4b02-8bee-cc9167c71de2",
   "metadata": {
    "tags": []
   },
   "source": [
    "# Discover Features and Featuregroups"
   ]
  },
  {
   "cell_type": "code",
   "execution_count": 256,
   "id": "92ad5ebb-867f-4d6f-a389-512e0068b22c",
   "metadata": {
    "tags": []
   },
   "outputs": [],
   "source": [
    "region = boto3.Session().region_name\n",
    "boto_session = boto3.Session(region_name=region)\n",
    "\n",
    "sagemaker_client = boto_session.client(service_name='sagemaker', region_name=region)\n",
    "featurestore_runtime = boto_session.client(service_name='sagemaker-featurestore-runtime', region_name=region)\n",
    "\n",
    "feature_store_session = Session(\n",
    "    boto_session=boto_session,\n",
    "    sagemaker_client=sagemaker_client,\n",
    "    sagemaker_featurestore_runtime_client=featurestore_runtime\n",
    ")"
   ]
  },
  {
   "cell_type": "code",
   "execution_count": 257,
   "id": "89d893c2-3d52-4e92-911d-d8a186e66f46",
   "metadata": {
    "tags": []
   },
   "outputs": [
    {
     "data": {
      "text/plain": [
       "{'Results': [{'FeatureMetadata': {'FeatureGroupArn': 'arn:aws:sagemaker:us-east-1:996025384640:feature-group/customers-feature-group-31-01-24-13',\n",
       "    'FeatureGroupName': 'customers-feature-group-31-01-24-13',\n",
       "    'FeatureName': 'age',\n",
       "    'FeatureType': 'Integral',\n",
       "    'CreationTime': datetime.datetime(2023, 8, 31, 1, 24, 26, tzinfo=tzlocal()),\n",
       "    'LastModifiedTime': datetime.datetime(2023, 8, 31, 1, 24, 26, tzinfo=tzlocal()),\n",
       "    'Parameters': []}},\n",
       "  {'FeatureMetadata': {'FeatureGroupArn': 'arn:aws:sagemaker:us-east-1:996025384640:feature-group/customers-feature-group-31-01-24-13',\n",
       "    'FeatureGroupName': 'customers-feature-group-31-01-24-13',\n",
       "    'FeatureName': 'contact',\n",
       "    'FeatureType': 'String',\n",
       "    'CreationTime': datetime.datetime(2023, 8, 31, 1, 24, 26, tzinfo=tzlocal()),\n",
       "    'LastModifiedTime': datetime.datetime(2023, 8, 31, 1, 24, 26, tzinfo=tzlocal()),\n",
       "    'Parameters': []}},\n",
       "  {'FeatureMetadata': {'FeatureGroupArn': 'arn:aws:sagemaker:us-east-1:996025384640:feature-group/customers-feature-group-31-01-24-13',\n",
       "    'FeatureGroupName': 'customers-feature-group-31-01-24-13',\n",
       "    'FeatureName': 'previous',\n",
       "    'FeatureType': 'Integral',\n",
       "    'CreationTime': datetime.datetime(2023, 8, 31, 1, 24, 26, tzinfo=tzlocal()),\n",
       "    'LastModifiedTime': datetime.datetime(2023, 8, 31, 1, 24, 26, tzinfo=tzlocal()),\n",
       "    'Parameters': []}},\n",
       "  {'FeatureMetadata': {'FeatureGroupArn': 'arn:aws:sagemaker:us-east-1:996025384640:feature-group/customers-feature-group-31-01-24-13',\n",
       "    'FeatureGroupName': 'customers-feature-group-31-01-24-13',\n",
       "    'FeatureName': 'euribor3m',\n",
       "    'FeatureType': 'Fractional',\n",
       "    'CreationTime': datetime.datetime(2023, 8, 31, 1, 24, 26, tzinfo=tzlocal()),\n",
       "    'LastModifiedTime': datetime.datetime(2023, 8, 31, 1, 24, 26, tzinfo=tzlocal()),\n",
       "    'Parameters': []}},\n",
       "  {'FeatureMetadata': {'FeatureGroupArn': 'arn:aws:sagemaker:us-east-1:996025384640:feature-group/customers-feature-group-31-01-24-13',\n",
       "    'FeatureGroupName': 'customers-feature-group-31-01-24-13',\n",
       "    'FeatureName': 'month',\n",
       "    'FeatureType': 'String',\n",
       "    'CreationTime': datetime.datetime(2023, 8, 31, 1, 24, 26, tzinfo=tzlocal()),\n",
       "    'LastModifiedTime': datetime.datetime(2023, 8, 31, 1, 24, 26, tzinfo=tzlocal()),\n",
       "    'Parameters': []}},\n",
       "  {'FeatureMetadata': {'FeatureGroupArn': 'arn:aws:sagemaker:us-east-1:996025384640:feature-group/customers-feature-group-31-01-24-13',\n",
       "    'FeatureGroupName': 'customers-feature-group-31-01-24-13',\n",
       "    'FeatureName': 'campaign',\n",
       "    'FeatureType': 'Integral',\n",
       "    'CreationTime': datetime.datetime(2023, 8, 31, 1, 24, 26, tzinfo=tzlocal()),\n",
       "    'LastModifiedTime': datetime.datetime(2023, 8, 31, 1, 24, 26, tzinfo=tzlocal()),\n",
       "    'Parameters': []}},\n",
       "  {'FeatureMetadata': {'FeatureGroupArn': 'arn:aws:sagemaker:us-east-1:996025384640:feature-group/customers-feature-group-31-01-24-13',\n",
       "    'FeatureGroupName': 'customers-feature-group-31-01-24-13',\n",
       "    'FeatureName': 'poutcome',\n",
       "    'FeatureType': 'String',\n",
       "    'CreationTime': datetime.datetime(2023, 8, 31, 1, 24, 26, tzinfo=tzlocal()),\n",
       "    'LastModifiedTime': datetime.datetime(2023, 8, 31, 1, 24, 26, tzinfo=tzlocal()),\n",
       "    'Parameters': []}},\n",
       "  {'FeatureMetadata': {'FeatureGroupArn': 'arn:aws:sagemaker:us-east-1:996025384640:feature-group/customers-feature-group-31-01-24-13',\n",
       "    'FeatureGroupName': 'customers-feature-group-31-01-24-13',\n",
       "    'FeatureName': 'FS_ID',\n",
       "    'FeatureType': 'Integral',\n",
       "    'CreationTime': datetime.datetime(2023, 8, 31, 1, 24, 26, tzinfo=tzlocal()),\n",
       "    'LastModifiedTime': datetime.datetime(2023, 8, 31, 1, 24, 26, tzinfo=tzlocal()),\n",
       "    'Parameters': []}},\n",
       "  {'FeatureMetadata': {'FeatureGroupArn': 'arn:aws:sagemaker:us-east-1:996025384640:feature-group/customers-feature-group-31-01-24-13',\n",
       "    'FeatureGroupName': 'customers-feature-group-31-01-24-13',\n",
       "    'FeatureName': 'marital',\n",
       "    'FeatureType': 'String',\n",
       "    'CreationTime': datetime.datetime(2023, 8, 31, 1, 24, 26, tzinfo=tzlocal()),\n",
       "    'LastModifiedTime': datetime.datetime(2023, 8, 31, 1, 24, 26, tzinfo=tzlocal()),\n",
       "    'Parameters': []}},\n",
       "  {'FeatureMetadata': {'FeatureGroupArn': 'arn:aws:sagemaker:us-east-1:996025384640:feature-group/customers-feature-group-31-01-24-13',\n",
       "    'FeatureGroupName': 'customers-feature-group-31-01-24-13',\n",
       "    'FeatureName': 'housing',\n",
       "    'FeatureType': 'String',\n",
       "    'CreationTime': datetime.datetime(2023, 8, 31, 1, 24, 26, tzinfo=tzlocal()),\n",
       "    'LastModifiedTime': datetime.datetime(2023, 8, 31, 1, 24, 26, tzinfo=tzlocal()),\n",
       "    'Parameters': []}},\n",
       "  {'FeatureMetadata': {'FeatureGroupArn': 'arn:aws:sagemaker:us-east-1:996025384640:feature-group/customers-feature-group-31-01-24-13',\n",
       "    'FeatureGroupName': 'customers-feature-group-31-01-24-13',\n",
       "    'FeatureName': 'pdays',\n",
       "    'FeatureType': 'Integral',\n",
       "    'CreationTime': datetime.datetime(2023, 8, 31, 1, 24, 26, tzinfo=tzlocal()),\n",
       "    'LastModifiedTime': datetime.datetime(2023, 8, 31, 1, 24, 26, tzinfo=tzlocal()),\n",
       "    'Parameters': []}},\n",
       "  {'FeatureMetadata': {'FeatureGroupArn': 'arn:aws:sagemaker:us-east-1:996025384640:feature-group/customers-feature-group-31-01-24-13',\n",
       "    'FeatureGroupName': 'customers-feature-group-31-01-24-13',\n",
       "    'FeatureName': 'job',\n",
       "    'FeatureType': 'String',\n",
       "    'CreationTime': datetime.datetime(2023, 8, 31, 1, 24, 26, tzinfo=tzlocal()),\n",
       "    'LastModifiedTime': datetime.datetime(2023, 8, 31, 1, 24, 26, tzinfo=tzlocal()),\n",
       "    'Parameters': []}},\n",
       "  {'FeatureMetadata': {'FeatureGroupArn': 'arn:aws:sagemaker:us-east-1:996025384640:feature-group/customers-feature-group-31-01-24-13',\n",
       "    'FeatureGroupName': 'customers-feature-group-31-01-24-13',\n",
       "    'FeatureName': 'loan',\n",
       "    'FeatureType': 'String',\n",
       "    'CreationTime': datetime.datetime(2023, 8, 31, 1, 24, 26, tzinfo=tzlocal()),\n",
       "    'LastModifiedTime': datetime.datetime(2023, 8, 31, 1, 24, 26, tzinfo=tzlocal()),\n",
       "    'Parameters': []}},\n",
       "  {'FeatureMetadata': {'FeatureGroupArn': 'arn:aws:sagemaker:us-east-1:996025384640:feature-group/customers-feature-group-31-01-24-13',\n",
       "    'FeatureGroupName': 'customers-feature-group-31-01-24-13',\n",
       "    'FeatureName': 'no_previous_contact',\n",
       "    'FeatureType': 'Integral',\n",
       "    'CreationTime': datetime.datetime(2023, 8, 31, 1, 24, 26, tzinfo=tzlocal()),\n",
       "    'LastModifiedTime': datetime.datetime(2023, 8, 31, 1, 24, 26, tzinfo=tzlocal()),\n",
       "    'Parameters': []}},\n",
       "  {'FeatureMetadata': {'FeatureGroupArn': 'arn:aws:sagemaker:us-east-1:996025384640:feature-group/customers-feature-group-31-01-24-13',\n",
       "    'FeatureGroupName': 'customers-feature-group-31-01-24-13',\n",
       "    'FeatureName': 'education',\n",
       "    'FeatureType': 'String',\n",
       "    'CreationTime': datetime.datetime(2023, 8, 31, 1, 24, 26, tzinfo=tzlocal()),\n",
       "    'LastModifiedTime': datetime.datetime(2023, 8, 31, 1, 24, 26, tzinfo=tzlocal()),\n",
       "    'Parameters': []}},\n",
       "  {'FeatureMetadata': {'FeatureGroupArn': 'arn:aws:sagemaker:us-east-1:996025384640:feature-group/customers-feature-group-31-01-24-13',\n",
       "    'FeatureGroupName': 'customers-feature-group-31-01-24-13',\n",
       "    'FeatureName': 'default',\n",
       "    'FeatureType': 'String',\n",
       "    'CreationTime': datetime.datetime(2023, 8, 31, 1, 24, 26, tzinfo=tzlocal()),\n",
       "    'LastModifiedTime': datetime.datetime(2023, 8, 31, 1, 24, 26, tzinfo=tzlocal()),\n",
       "    'Parameters': []}},\n",
       "  {'FeatureMetadata': {'FeatureGroupArn': 'arn:aws:sagemaker:us-east-1:996025384640:feature-group/customers-feature-group-31-01-24-13',\n",
       "    'FeatureGroupName': 'customers-feature-group-31-01-24-13',\n",
       "    'FeatureName': 'day_of_week',\n",
       "    'FeatureType': 'String',\n",
       "    'CreationTime': datetime.datetime(2023, 8, 31, 1, 24, 26, tzinfo=tzlocal()),\n",
       "    'LastModifiedTime': datetime.datetime(2023, 8, 31, 1, 24, 26, tzinfo=tzlocal()),\n",
       "    'Parameters': []}},\n",
       "  {'FeatureMetadata': {'FeatureGroupArn': 'arn:aws:sagemaker:us-east-1:996025384640:feature-group/customers-feature-group-31-01-24-13',\n",
       "    'FeatureGroupName': 'customers-feature-group-31-01-24-13',\n",
       "    'FeatureName': 'y',\n",
       "    'FeatureType': 'String',\n",
       "    'CreationTime': datetime.datetime(2023, 8, 31, 1, 24, 26, tzinfo=tzlocal()),\n",
       "    'LastModifiedTime': datetime.datetime(2023, 8, 31, 1, 24, 26, tzinfo=tzlocal()),\n",
       "    'Parameters': []}},\n",
       "  {'FeatureMetadata': {'FeatureGroupArn': 'arn:aws:sagemaker:us-east-1:996025384640:feature-group/customers-feature-group-31-01-24-13',\n",
       "    'FeatureGroupName': 'customers-feature-group-31-01-24-13',\n",
       "    'FeatureName': 'not_working',\n",
       "    'FeatureType': 'Integral',\n",
       "    'CreationTime': datetime.datetime(2023, 8, 31, 1, 24, 26, tzinfo=tzlocal()),\n",
       "    'LastModifiedTime': datetime.datetime(2023, 8, 31, 1, 24, 26, tzinfo=tzlocal()),\n",
       "    'Parameters': []}},\n",
       "  {'FeatureMetadata': {'FeatureGroupArn': 'arn:aws:sagemaker:us-east-1:996025384640:feature-group/customers-feature-group-31-01-24-13',\n",
       "    'FeatureGroupName': 'customers-feature-group-31-01-24-13',\n",
       "    'FeatureName': 'FS_time',\n",
       "    'FeatureType': 'Fractional',\n",
       "    'CreationTime': datetime.datetime(2023, 8, 31, 1, 24, 26, tzinfo=tzlocal()),\n",
       "    'LastModifiedTime': datetime.datetime(2023, 8, 31, 1, 24, 26, tzinfo=tzlocal()),\n",
       "    'Parameters': []}},\n",
       "  {'FeatureMetadata': {'FeatureGroupArn': 'arn:aws:sagemaker:us-east-1:996025384640:feature-group/customers-feature-group-31-01-17-28',\n",
       "    'FeatureGroupName': 'customers-feature-group-31-01-17-28',\n",
       "    'FeatureName': 'job',\n",
       "    'FeatureType': 'String',\n",
       "    'CreationTime': datetime.datetime(2023, 8, 31, 1, 17, 32, tzinfo=tzlocal()),\n",
       "    'LastModifiedTime': datetime.datetime(2023, 8, 31, 1, 17, 32, tzinfo=tzlocal()),\n",
       "    'Parameters': []}},\n",
       "  {'FeatureMetadata': {'FeatureGroupArn': 'arn:aws:sagemaker:us-east-1:996025384640:feature-group/customers-feature-group-31-01-17-28',\n",
       "    'FeatureGroupName': 'customers-feature-group-31-01-17-28',\n",
       "    'FeatureName': 'housing',\n",
       "    'FeatureType': 'String',\n",
       "    'CreationTime': datetime.datetime(2023, 8, 31, 1, 17, 32, tzinfo=tzlocal()),\n",
       "    'LastModifiedTime': datetime.datetime(2023, 8, 31, 1, 17, 32, tzinfo=tzlocal()),\n",
       "    'Parameters': []}},\n",
       "  {'FeatureMetadata': {'FeatureGroupArn': 'arn:aws:sagemaker:us-east-1:996025384640:feature-group/customers-feature-group-31-01-17-28',\n",
       "    'FeatureGroupName': 'customers-feature-group-31-01-17-28',\n",
       "    'FeatureName': 'month',\n",
       "    'FeatureType': 'String',\n",
       "    'CreationTime': datetime.datetime(2023, 8, 31, 1, 17, 32, tzinfo=tzlocal()),\n",
       "    'LastModifiedTime': datetime.datetime(2023, 8, 31, 1, 17, 32, tzinfo=tzlocal()),\n",
       "    'Parameters': []}},\n",
       "  {'FeatureMetadata': {'FeatureGroupArn': 'arn:aws:sagemaker:us-east-1:996025384640:feature-group/customers-feature-group-31-01-17-28',\n",
       "    'FeatureGroupName': 'customers-feature-group-31-01-17-28',\n",
       "    'FeatureName': 'pdays',\n",
       "    'FeatureType': 'Integral',\n",
       "    'CreationTime': datetime.datetime(2023, 8, 31, 1, 17, 32, tzinfo=tzlocal()),\n",
       "    'LastModifiedTime': datetime.datetime(2023, 8, 31, 1, 17, 32, tzinfo=tzlocal()),\n",
       "    'Parameters': []}},\n",
       "  {'FeatureMetadata': {'FeatureGroupArn': 'arn:aws:sagemaker:us-east-1:996025384640:feature-group/customers-feature-group-31-01-17-28',\n",
       "    'FeatureGroupName': 'customers-feature-group-31-01-17-28',\n",
       "    'FeatureName': 'not_working',\n",
       "    'FeatureType': 'Integral',\n",
       "    'CreationTime': datetime.datetime(2023, 8, 31, 1, 17, 32, tzinfo=tzlocal()),\n",
       "    'LastModifiedTime': datetime.datetime(2023, 8, 31, 1, 17, 32, tzinfo=tzlocal()),\n",
       "    'Parameters': []}},\n",
       "  {'FeatureMetadata': {'FeatureGroupArn': 'arn:aws:sagemaker:us-east-1:996025384640:feature-group/customers-feature-group-31-01-17-28',\n",
       "    'FeatureGroupName': 'customers-feature-group-31-01-17-28',\n",
       "    'FeatureName': 'FS_time',\n",
       "    'FeatureType': 'Fractional',\n",
       "    'CreationTime': datetime.datetime(2023, 8, 31, 1, 17, 32, tzinfo=tzlocal()),\n",
       "    'LastModifiedTime': datetime.datetime(2023, 8, 31, 1, 17, 32, tzinfo=tzlocal()),\n",
       "    'Parameters': []}},\n",
       "  {'FeatureMetadata': {'FeatureGroupArn': 'arn:aws:sagemaker:us-east-1:996025384640:feature-group/customers-feature-group-31-01-17-28',\n",
       "    'FeatureGroupName': 'customers-feature-group-31-01-17-28',\n",
       "    'FeatureName': 'default',\n",
       "    'FeatureType': 'String',\n",
       "    'CreationTime': datetime.datetime(2023, 8, 31, 1, 17, 32, tzinfo=tzlocal()),\n",
       "    'LastModifiedTime': datetime.datetime(2023, 8, 31, 1, 17, 32, tzinfo=tzlocal()),\n",
       "    'Parameters': []}},\n",
       "  {'FeatureMetadata': {'FeatureGroupArn': 'arn:aws:sagemaker:us-east-1:996025384640:feature-group/customers-feature-group-31-01-17-28',\n",
       "    'FeatureGroupName': 'customers-feature-group-31-01-17-28',\n",
       "    'FeatureName': 'previous',\n",
       "    'FeatureType': 'Integral',\n",
       "    'CreationTime': datetime.datetime(2023, 8, 31, 1, 17, 32, tzinfo=tzlocal()),\n",
       "    'LastModifiedTime': datetime.datetime(2023, 8, 31, 1, 17, 32, tzinfo=tzlocal()),\n",
       "    'Parameters': []}},\n",
       "  {'FeatureMetadata': {'FeatureGroupArn': 'arn:aws:sagemaker:us-east-1:996025384640:feature-group/customers-feature-group-31-01-17-28',\n",
       "    'FeatureGroupName': 'customers-feature-group-31-01-17-28',\n",
       "    'FeatureName': 'FS_ID',\n",
       "    'FeatureType': 'Integral',\n",
       "    'CreationTime': datetime.datetime(2023, 8, 31, 1, 17, 32, tzinfo=tzlocal()),\n",
       "    'LastModifiedTime': datetime.datetime(2023, 8, 31, 1, 17, 32, tzinfo=tzlocal()),\n",
       "    'Parameters': []}},\n",
       "  {'FeatureMetadata': {'FeatureGroupArn': 'arn:aws:sagemaker:us-east-1:996025384640:feature-group/customers-feature-group-31-01-17-28',\n",
       "    'FeatureGroupName': 'customers-feature-group-31-01-17-28',\n",
       "    'FeatureName': 'day_of_week',\n",
       "    'FeatureType': 'String',\n",
       "    'CreationTime': datetime.datetime(2023, 8, 31, 1, 17, 32, tzinfo=tzlocal()),\n",
       "    'LastModifiedTime': datetime.datetime(2023, 8, 31, 1, 17, 32, tzinfo=tzlocal()),\n",
       "    'Parameters': []}},\n",
       "  {'FeatureMetadata': {'FeatureGroupArn': 'arn:aws:sagemaker:us-east-1:996025384640:feature-group/customers-feature-group-31-01-17-28',\n",
       "    'FeatureGroupName': 'customers-feature-group-31-01-17-28',\n",
       "    'FeatureName': 'marital',\n",
       "    'FeatureType': 'String',\n",
       "    'CreationTime': datetime.datetime(2023, 8, 31, 1, 17, 32, tzinfo=tzlocal()),\n",
       "    'LastModifiedTime': datetime.datetime(2023, 8, 31, 1, 17, 32, tzinfo=tzlocal()),\n",
       "    'Parameters': []}},\n",
       "  {'FeatureMetadata': {'FeatureGroupArn': 'arn:aws:sagemaker:us-east-1:996025384640:feature-group/customers-feature-group-31-01-17-28',\n",
       "    'FeatureGroupName': 'customers-feature-group-31-01-17-28',\n",
       "    'FeatureName': 'loan',\n",
       "    'FeatureType': 'String',\n",
       "    'CreationTime': datetime.datetime(2023, 8, 31, 1, 17, 32, tzinfo=tzlocal()),\n",
       "    'LastModifiedTime': datetime.datetime(2023, 8, 31, 1, 17, 32, tzinfo=tzlocal()),\n",
       "    'Parameters': []}},\n",
       "  {'FeatureMetadata': {'FeatureGroupArn': 'arn:aws:sagemaker:us-east-1:996025384640:feature-group/customers-feature-group-31-01-17-28',\n",
       "    'FeatureGroupName': 'customers-feature-group-31-01-17-28',\n",
       "    'FeatureName': 'poutcome',\n",
       "    'FeatureType': 'String',\n",
       "    'CreationTime': datetime.datetime(2023, 8, 31, 1, 17, 32, tzinfo=tzlocal()),\n",
       "    'LastModifiedTime': datetime.datetime(2023, 8, 31, 1, 17, 32, tzinfo=tzlocal()),\n",
       "    'Parameters': []}},\n",
       "  {'FeatureMetadata': {'FeatureGroupArn': 'arn:aws:sagemaker:us-east-1:996025384640:feature-group/customers-feature-group-31-01-17-28',\n",
       "    'FeatureGroupName': 'customers-feature-group-31-01-17-28',\n",
       "    'FeatureName': 'euribor3m',\n",
       "    'FeatureType': 'Fractional',\n",
       "    'CreationTime': datetime.datetime(2023, 8, 31, 1, 17, 32, tzinfo=tzlocal()),\n",
       "    'LastModifiedTime': datetime.datetime(2023, 8, 31, 1, 17, 32, tzinfo=tzlocal()),\n",
       "    'Parameters': []}},\n",
       "  {'FeatureMetadata': {'FeatureGroupArn': 'arn:aws:sagemaker:us-east-1:996025384640:feature-group/customers-feature-group-31-01-17-28',\n",
       "    'FeatureGroupName': 'customers-feature-group-31-01-17-28',\n",
       "    'FeatureName': 'y',\n",
       "    'FeatureType': 'String',\n",
       "    'CreationTime': datetime.datetime(2023, 8, 31, 1, 17, 32, tzinfo=tzlocal()),\n",
       "    'LastModifiedTime': datetime.datetime(2023, 8, 31, 1, 17, 32, tzinfo=tzlocal()),\n",
       "    'Parameters': []}},\n",
       "  {'FeatureMetadata': {'FeatureGroupArn': 'arn:aws:sagemaker:us-east-1:996025384640:feature-group/customers-feature-group-31-01-17-28',\n",
       "    'FeatureGroupName': 'customers-feature-group-31-01-17-28',\n",
       "    'FeatureName': 'no_previous_contact',\n",
       "    'FeatureType': 'Integral',\n",
       "    'CreationTime': datetime.datetime(2023, 8, 31, 1, 17, 32, tzinfo=tzlocal()),\n",
       "    'LastModifiedTime': datetime.datetime(2023, 8, 31, 1, 17, 32, tzinfo=tzlocal()),\n",
       "    'Parameters': []}},\n",
       "  {'FeatureMetadata': {'FeatureGroupArn': 'arn:aws:sagemaker:us-east-1:996025384640:feature-group/customers-feature-group-31-01-17-28',\n",
       "    'FeatureGroupName': 'customers-feature-group-31-01-17-28',\n",
       "    'FeatureName': 'age',\n",
       "    'FeatureType': 'Integral',\n",
       "    'CreationTime': datetime.datetime(2023, 8, 31, 1, 17, 32, tzinfo=tzlocal()),\n",
       "    'LastModifiedTime': datetime.datetime(2023, 8, 31, 1, 17, 32, tzinfo=tzlocal()),\n",
       "    'Parameters': []}},\n",
       "  {'FeatureMetadata': {'FeatureGroupArn': 'arn:aws:sagemaker:us-east-1:996025384640:feature-group/customers-feature-group-31-01-17-28',\n",
       "    'FeatureGroupName': 'customers-feature-group-31-01-17-28',\n",
       "    'FeatureName': 'education',\n",
       "    'FeatureType': 'String',\n",
       "    'CreationTime': datetime.datetime(2023, 8, 31, 1, 17, 32, tzinfo=tzlocal()),\n",
       "    'LastModifiedTime': datetime.datetime(2023, 8, 31, 1, 17, 32, tzinfo=tzlocal()),\n",
       "    'Parameters': []}},\n",
       "  {'FeatureMetadata': {'FeatureGroupArn': 'arn:aws:sagemaker:us-east-1:996025384640:feature-group/customers-feature-group-31-01-17-28',\n",
       "    'FeatureGroupName': 'customers-feature-group-31-01-17-28',\n",
       "    'FeatureName': 'contact',\n",
       "    'FeatureType': 'String',\n",
       "    'CreationTime': datetime.datetime(2023, 8, 31, 1, 17, 32, tzinfo=tzlocal()),\n",
       "    'LastModifiedTime': datetime.datetime(2023, 8, 31, 1, 17, 32, tzinfo=tzlocal()),\n",
       "    'Parameters': []}},\n",
       "  {'FeatureMetadata': {'FeatureGroupArn': 'arn:aws:sagemaker:us-east-1:996025384640:feature-group/customers-feature-group-31-01-17-28',\n",
       "    'FeatureGroupName': 'customers-feature-group-31-01-17-28',\n",
       "    'FeatureName': 'campaign',\n",
       "    'FeatureType': 'Integral',\n",
       "    'CreationTime': datetime.datetime(2023, 8, 31, 1, 17, 32, tzinfo=tzlocal()),\n",
       "    'LastModifiedTime': datetime.datetime(2023, 8, 31, 1, 17, 32, tzinfo=tzlocal()),\n",
       "    'Parameters': []}},\n",
       "  {'FeatureMetadata': {'FeatureGroupArn': 'arn:aws:sagemaker:us-east-1:996025384640:feature-group/customers-feature-group-31-01-12-28',\n",
       "    'FeatureGroupName': 'customers-feature-group-31-01-12-28',\n",
       "    'FeatureName': 'job',\n",
       "    'FeatureType': 'String',\n",
       "    'CreationTime': datetime.datetime(2023, 8, 31, 1, 12, 31, tzinfo=tzlocal()),\n",
       "    'LastModifiedTime': datetime.datetime(2023, 8, 31, 1, 12, 31, tzinfo=tzlocal()),\n",
       "    'Parameters': []}},\n",
       "  {'FeatureMetadata': {'FeatureGroupArn': 'arn:aws:sagemaker:us-east-1:996025384640:feature-group/customers-feature-group-31-01-12-28',\n",
       "    'FeatureGroupName': 'customers-feature-group-31-01-12-28',\n",
       "    'FeatureName': 'month',\n",
       "    'FeatureType': 'String',\n",
       "    'CreationTime': datetime.datetime(2023, 8, 31, 1, 12, 31, tzinfo=tzlocal()),\n",
       "    'LastModifiedTime': datetime.datetime(2023, 8, 31, 1, 12, 31, tzinfo=tzlocal()),\n",
       "    'Parameters': []}},\n",
       "  {'FeatureMetadata': {'FeatureGroupArn': 'arn:aws:sagemaker:us-east-1:996025384640:feature-group/customers-feature-group-31-01-12-28',\n",
       "    'FeatureGroupName': 'customers-feature-group-31-01-12-28',\n",
       "    'FeatureName': 'poutcome',\n",
       "    'FeatureType': 'String',\n",
       "    'CreationTime': datetime.datetime(2023, 8, 31, 1, 12, 31, tzinfo=tzlocal()),\n",
       "    'LastModifiedTime': datetime.datetime(2023, 8, 31, 1, 12, 31, tzinfo=tzlocal()),\n",
       "    'Parameters': []}},\n",
       "  {'FeatureMetadata': {'FeatureGroupArn': 'arn:aws:sagemaker:us-east-1:996025384640:feature-group/customers-feature-group-31-01-12-28',\n",
       "    'FeatureGroupName': 'customers-feature-group-31-01-12-28',\n",
       "    'FeatureName': 'not_working',\n",
       "    'FeatureType': 'Integral',\n",
       "    'CreationTime': datetime.datetime(2023, 8, 31, 1, 12, 31, tzinfo=tzlocal()),\n",
       "    'LastModifiedTime': datetime.datetime(2023, 8, 31, 1, 12, 31, tzinfo=tzlocal()),\n",
       "    'Parameters': []}},\n",
       "  {'FeatureMetadata': {'FeatureGroupArn': 'arn:aws:sagemaker:us-east-1:996025384640:feature-group/customers-feature-group-31-01-12-28',\n",
       "    'FeatureGroupName': 'customers-feature-group-31-01-12-28',\n",
       "    'FeatureName': 'age',\n",
       "    'FeatureType': 'Integral',\n",
       "    'CreationTime': datetime.datetime(2023, 8, 31, 1, 12, 31, tzinfo=tzlocal()),\n",
       "    'LastModifiedTime': datetime.datetime(2023, 8, 31, 1, 12, 31, tzinfo=tzlocal()),\n",
       "    'Parameters': []}},\n",
       "  {'FeatureMetadata': {'FeatureGroupArn': 'arn:aws:sagemaker:us-east-1:996025384640:feature-group/customers-feature-group-31-01-12-28',\n",
       "    'FeatureGroupName': 'customers-feature-group-31-01-12-28',\n",
       "    'FeatureName': 'housing',\n",
       "    'FeatureType': 'String',\n",
       "    'CreationTime': datetime.datetime(2023, 8, 31, 1, 12, 31, tzinfo=tzlocal()),\n",
       "    'LastModifiedTime': datetime.datetime(2023, 8, 31, 1, 12, 31, tzinfo=tzlocal()),\n",
       "    'Parameters': []}},\n",
       "  {'FeatureMetadata': {'FeatureGroupArn': 'arn:aws:sagemaker:us-east-1:996025384640:feature-group/customers-feature-group-31-01-12-28',\n",
       "    'FeatureGroupName': 'customers-feature-group-31-01-12-28',\n",
       "    'FeatureName': 'loan',\n",
       "    'FeatureType': 'String',\n",
       "    'CreationTime': datetime.datetime(2023, 8, 31, 1, 12, 31, tzinfo=tzlocal()),\n",
       "    'LastModifiedTime': datetime.datetime(2023, 8, 31, 1, 12, 31, tzinfo=tzlocal()),\n",
       "    'Parameters': []}},\n",
       "  {'FeatureMetadata': {'FeatureGroupArn': 'arn:aws:sagemaker:us-east-1:996025384640:feature-group/customers-feature-group-31-01-12-28',\n",
       "    'FeatureGroupName': 'customers-feature-group-31-01-12-28',\n",
       "    'FeatureName': 'no_previous_contact',\n",
       "    'FeatureType': 'Integral',\n",
       "    'CreationTime': datetime.datetime(2023, 8, 31, 1, 12, 31, tzinfo=tzlocal()),\n",
       "    'LastModifiedTime': datetime.datetime(2023, 8, 31, 1, 12, 31, tzinfo=tzlocal()),\n",
       "    'Parameters': []}},\n",
       "  {'FeatureMetadata': {'FeatureGroupArn': 'arn:aws:sagemaker:us-east-1:996025384640:feature-group/customers-feature-group-31-01-12-28',\n",
       "    'FeatureGroupName': 'customers-feature-group-31-01-12-28',\n",
       "    'FeatureName': 'FS_ID',\n",
       "    'FeatureType': 'Integral',\n",
       "    'CreationTime': datetime.datetime(2023, 8, 31, 1, 12, 31, tzinfo=tzlocal()),\n",
       "    'LastModifiedTime': datetime.datetime(2023, 8, 31, 1, 12, 31, tzinfo=tzlocal()),\n",
       "    'Parameters': []}},\n",
       "  {'FeatureMetadata': {'FeatureGroupArn': 'arn:aws:sagemaker:us-east-1:996025384640:feature-group/customers-feature-group-31-01-12-28',\n",
       "    'FeatureGroupName': 'customers-feature-group-31-01-12-28',\n",
       "    'FeatureName': 'FS_time',\n",
       "    'FeatureType': 'Fractional',\n",
       "    'CreationTime': datetime.datetime(2023, 8, 31, 1, 12, 31, tzinfo=tzlocal()),\n",
       "    'LastModifiedTime': datetime.datetime(2023, 8, 31, 1, 12, 31, tzinfo=tzlocal()),\n",
       "    'Parameters': []}}],\n",
       " 'NextToken': 'AQICAHhpGYEDqR31pxwBcm5VNp6dMBkA9NETOLQwStW0STAwFgHNW15Xi3IZ1EeV0XfcxPmMAAAApzCBpAYJKoZIhvcNAQcGoIGWMIGTAgEAMIGNBgkqhkiG9w0BBwEwHgYJYIZIAWUDBAEuMBEEDFPqOsCwuT7UVM1BxQIBEIBg9OY1XUtvupCtg4xWRd7062XBkF6U4FPmrQxSVoeiMK01M5CUsfULh4V8znAWf+G+li+RcqHGTMTYDZOQDNPK8hRCqNGdPDg7cIgA1BaoZPcqvp9XbjYalqP9bgwvxIAz',\n",
       " 'ResponseMetadata': {'RequestId': 'c1780077-7554-4bf7-97cb-c41efc7141cb',\n",
       "  'HTTPStatusCode': 200,\n",
       "  'HTTPHeaders': {'x-amzn-requestid': 'c1780077-7554-4bf7-97cb-c41efc7141cb',\n",
       "   'content-type': 'application/x-amz-json-1.1',\n",
       "   'content-length': '17094',\n",
       "   'date': 'Thu, 31 Aug 2023 01:29:38 GMT'},\n",
       "  'RetryAttempts': 0}}"
      ]
     },
     "execution_count": 257,
     "metadata": {},
     "output_type": "execute_result"
    }
   ],
   "source": [
    "sagemaker_client.search(\n",
    "    Resource=\"FeatureMetadata\",\n",
    ")  \n",
    "\n",
    "# Search for all features that belong to a feature group that contain the \"ver\" substring\n",
    "sagemaker_client.search(\n",
    "    Resource=\"FeatureMetadata\",\n",
    "    SearchExpression={\n",
    "        'Filters': [\n",
    "            {\n",
    "                'Name': 'FeatureGroupName',\n",
    "                'Operator': 'Contains',\n",
    "                'Value': 'customer'\n",
    "            },\n",
    "        ]\n",
    "    }\n",
    ")"
   ]
  },
  {
   "cell_type": "code",
   "execution_count": 258,
   "id": "b1e88a23-2600-4f64-a6d8-3699cfa83c9d",
   "metadata": {
    "tags": []
   },
   "outputs": [
    {
     "data": {
      "text/plain": [
       "{'Results': [{'FeatureMetadata': {'FeatureGroupArn': 'arn:aws:sagemaker:us-east-1:996025384640:feature-group/customers-feature-group-31-01-24-13',\n",
       "    'FeatureGroupName': 'customers-feature-group-31-01-24-13',\n",
       "    'FeatureName': 'age',\n",
       "    'FeatureType': 'Integral',\n",
       "    'CreationTime': datetime.datetime(2023, 8, 31, 1, 24, 26, tzinfo=tzlocal()),\n",
       "    'LastModifiedTime': datetime.datetime(2023, 8, 31, 1, 24, 26, tzinfo=tzlocal()),\n",
       "    'Parameters': []}},\n",
       "  {'FeatureMetadata': {'FeatureGroupArn': 'arn:aws:sagemaker:us-east-1:996025384640:feature-group/customers-feature-group-31-01-17-28',\n",
       "    'FeatureGroupName': 'customers-feature-group-31-01-17-28',\n",
       "    'FeatureName': 'age',\n",
       "    'FeatureType': 'Integral',\n",
       "    'CreationTime': datetime.datetime(2023, 8, 31, 1, 17, 32, tzinfo=tzlocal()),\n",
       "    'LastModifiedTime': datetime.datetime(2023, 8, 31, 1, 17, 32, tzinfo=tzlocal()),\n",
       "    'Parameters': []}},\n",
       "  {'FeatureMetadata': {'FeatureGroupArn': 'arn:aws:sagemaker:us-east-1:996025384640:feature-group/customers-feature-group-31-01-12-28',\n",
       "    'FeatureGroupName': 'customers-feature-group-31-01-12-28',\n",
       "    'FeatureName': 'age',\n",
       "    'FeatureType': 'Integral',\n",
       "    'CreationTime': datetime.datetime(2023, 8, 31, 1, 12, 31, tzinfo=tzlocal()),\n",
       "    'LastModifiedTime': datetime.datetime(2023, 8, 31, 1, 12, 31, tzinfo=tzlocal()),\n",
       "    'Parameters': []}},\n",
       "  {'FeatureMetadata': {'FeatureGroupArn': 'arn:aws:sagemaker:us-east-1:996025384640:feature-group/customers-feature-group-31-00-56-43',\n",
       "    'FeatureGroupName': 'customers-feature-group-31-00-56-43',\n",
       "    'FeatureName': 'age',\n",
       "    'FeatureType': 'Integral',\n",
       "    'CreationTime': datetime.datetime(2023, 8, 31, 0, 56, 54, tzinfo=tzlocal()),\n",
       "    'LastModifiedTime': datetime.datetime(2023, 8, 31, 0, 56, 54, tzinfo=tzlocal()),\n",
       "    'Parameters': []}},\n",
       "  {'FeatureMetadata': {'FeatureGroupArn': 'arn:aws:sagemaker:us-east-1:996025384640:feature-group/customers-feature-group-30-20-59-48',\n",
       "    'FeatureGroupName': 'customers-feature-group-30-20-59-48',\n",
       "    'FeatureName': 'age',\n",
       "    'FeatureType': 'Integral',\n",
       "    'CreationTime': datetime.datetime(2023, 8, 30, 20, 59, 52, tzinfo=tzlocal()),\n",
       "    'LastModifiedTime': datetime.datetime(2023, 8, 31, 0, 15, 11, tzinfo=tzlocal()),\n",
       "    'Description': 'mdoel',\n",
       "    'Parameters': []}}],\n",
       " 'ResponseMetadata': {'RequestId': '3d39e4a5-7330-4baa-b79c-b9916661eb5e',\n",
       "  'HTTPStatusCode': 200,\n",
       "  'HTTPHeaders': {'x-amzn-requestid': '3d39e4a5-7330-4baa-b79c-b9916661eb5e',\n",
       "   'content-type': 'application/x-amz-json-1.1',\n",
       "   'content-length': '1695',\n",
       "   'date': 'Thu, 31 Aug 2023 01:30:24 GMT'},\n",
       "  'RetryAttempts': 0}}"
      ]
     },
     "execution_count": 258,
     "metadata": {},
     "output_type": "execute_result"
    }
   ],
   "source": [
    "sagemaker_client.search(\n",
    "    Resource=\"FeatureMetadata\",\n",
    "    SearchExpression={\n",
    "        'Filters': [\n",
    "            {\n",
    "                'Name':'FeatureName',\n",
    "                'Operator': 'Contains',\n",
    "                'Value': 'age'\n",
    "            }\n",
    "\n",
    "        ]\n",
    "    }\n",
    ") "
   ]
  },
  {
   "cell_type": "code",
   "execution_count": 259,
   "id": "4b701bce-2535-4ca4-b4ba-4a85a0fac3eb",
   "metadata": {},
   "outputs": [
    {
     "data": {
      "text/plain": [
       "{'ResponseMetadata': {'RequestId': '53df5fe8-1dae-4756-8d85-e1b705ea7879',\n",
       "  'HTTPStatusCode': 200,\n",
       "  'HTTPHeaders': {'x-amzn-requestid': '53df5fe8-1dae-4756-8d85-e1b705ea7879',\n",
       "   'content-type': 'application/x-amz-json-1.1',\n",
       "   'content-length': '0',\n",
       "   'date': 'Thu, 31 Aug 2023 01:32:20 GMT'},\n",
       "  'RetryAttempts': 0}}"
      ]
     },
     "execution_count": 259,
     "metadata": {},
     "output_type": "execute_result"
    }
   ],
   "source": [
    "sagemaker_client.update_feature_metadata(\n",
    "    FeatureGroupName=feature_group_name,\n",
    "    FeatureName=\"age\",\n",
    "    Description=\"mdoel\"\n",
    ")\n"
   ]
  },
  {
   "cell_type": "code",
   "execution_count": null,
   "id": "27511b41-72f5-4970-8ca6-cd83bbb6a5e2",
   "metadata": {},
   "outputs": [],
   "source": []
  }
 ],
 "metadata": {
  "availableInstances": [
   {
    "_defaultOrder": 0,
    "_isFastLaunch": true,
    "category": "General purpose",
    "gpuNum": 0,
    "hideHardwareSpecs": false,
    "memoryGiB": 4,
    "name": "ml.t3.medium",
    "vcpuNum": 2
   },
   {
    "_defaultOrder": 1,
    "_isFastLaunch": false,
    "category": "General purpose",
    "gpuNum": 0,
    "hideHardwareSpecs": false,
    "memoryGiB": 8,
    "name": "ml.t3.large",
    "vcpuNum": 2
   },
   {
    "_defaultOrder": 2,
    "_isFastLaunch": false,
    "category": "General purpose",
    "gpuNum": 0,
    "hideHardwareSpecs": false,
    "memoryGiB": 16,
    "name": "ml.t3.xlarge",
    "vcpuNum": 4
   },
   {
    "_defaultOrder": 3,
    "_isFastLaunch": false,
    "category": "General purpose",
    "gpuNum": 0,
    "hideHardwareSpecs": false,
    "memoryGiB": 32,
    "name": "ml.t3.2xlarge",
    "vcpuNum": 8
   },
   {
    "_defaultOrder": 4,
    "_isFastLaunch": true,
    "category": "General purpose",
    "gpuNum": 0,
    "hideHardwareSpecs": false,
    "memoryGiB": 8,
    "name": "ml.m5.large",
    "vcpuNum": 2
   },
   {
    "_defaultOrder": 5,
    "_isFastLaunch": false,
    "category": "General purpose",
    "gpuNum": 0,
    "hideHardwareSpecs": false,
    "memoryGiB": 16,
    "name": "ml.m5.xlarge",
    "vcpuNum": 4
   },
   {
    "_defaultOrder": 6,
    "_isFastLaunch": false,
    "category": "General purpose",
    "gpuNum": 0,
    "hideHardwareSpecs": false,
    "memoryGiB": 32,
    "name": "ml.m5.2xlarge",
    "vcpuNum": 8
   },
   {
    "_defaultOrder": 7,
    "_isFastLaunch": false,
    "category": "General purpose",
    "gpuNum": 0,
    "hideHardwareSpecs": false,
    "memoryGiB": 64,
    "name": "ml.m5.4xlarge",
    "vcpuNum": 16
   },
   {
    "_defaultOrder": 8,
    "_isFastLaunch": false,
    "category": "General purpose",
    "gpuNum": 0,
    "hideHardwareSpecs": false,
    "memoryGiB": 128,
    "name": "ml.m5.8xlarge",
    "vcpuNum": 32
   },
   {
    "_defaultOrder": 9,
    "_isFastLaunch": false,
    "category": "General purpose",
    "gpuNum": 0,
    "hideHardwareSpecs": false,
    "memoryGiB": 192,
    "name": "ml.m5.12xlarge",
    "vcpuNum": 48
   },
   {
    "_defaultOrder": 10,
    "_isFastLaunch": false,
    "category": "General purpose",
    "gpuNum": 0,
    "hideHardwareSpecs": false,
    "memoryGiB": 256,
    "name": "ml.m5.16xlarge",
    "vcpuNum": 64
   },
   {
    "_defaultOrder": 11,
    "_isFastLaunch": false,
    "category": "General purpose",
    "gpuNum": 0,
    "hideHardwareSpecs": false,
    "memoryGiB": 384,
    "name": "ml.m5.24xlarge",
    "vcpuNum": 96
   },
   {
    "_defaultOrder": 12,
    "_isFastLaunch": false,
    "category": "General purpose",
    "gpuNum": 0,
    "hideHardwareSpecs": false,
    "memoryGiB": 8,
    "name": "ml.m5d.large",
    "vcpuNum": 2
   },
   {
    "_defaultOrder": 13,
    "_isFastLaunch": false,
    "category": "General purpose",
    "gpuNum": 0,
    "hideHardwareSpecs": false,
    "memoryGiB": 16,
    "name": "ml.m5d.xlarge",
    "vcpuNum": 4
   },
   {
    "_defaultOrder": 14,
    "_isFastLaunch": false,
    "category": "General purpose",
    "gpuNum": 0,
    "hideHardwareSpecs": false,
    "memoryGiB": 32,
    "name": "ml.m5d.2xlarge",
    "vcpuNum": 8
   },
   {
    "_defaultOrder": 15,
    "_isFastLaunch": false,
    "category": "General purpose",
    "gpuNum": 0,
    "hideHardwareSpecs": false,
    "memoryGiB": 64,
    "name": "ml.m5d.4xlarge",
    "vcpuNum": 16
   },
   {
    "_defaultOrder": 16,
    "_isFastLaunch": false,
    "category": "General purpose",
    "gpuNum": 0,
    "hideHardwareSpecs": false,
    "memoryGiB": 128,
    "name": "ml.m5d.8xlarge",
    "vcpuNum": 32
   },
   {
    "_defaultOrder": 17,
    "_isFastLaunch": false,
    "category": "General purpose",
    "gpuNum": 0,
    "hideHardwareSpecs": false,
    "memoryGiB": 192,
    "name": "ml.m5d.12xlarge",
    "vcpuNum": 48
   },
   {
    "_defaultOrder": 18,
    "_isFastLaunch": false,
    "category": "General purpose",
    "gpuNum": 0,
    "hideHardwareSpecs": false,
    "memoryGiB": 256,
    "name": "ml.m5d.16xlarge",
    "vcpuNum": 64
   },
   {
    "_defaultOrder": 19,
    "_isFastLaunch": false,
    "category": "General purpose",
    "gpuNum": 0,
    "hideHardwareSpecs": false,
    "memoryGiB": 384,
    "name": "ml.m5d.24xlarge",
    "vcpuNum": 96
   },
   {
    "_defaultOrder": 20,
    "_isFastLaunch": false,
    "category": "General purpose",
    "gpuNum": 0,
    "hideHardwareSpecs": true,
    "memoryGiB": 0,
    "name": "ml.geospatial.interactive",
    "supportedImageNames": [
     "sagemaker-geospatial-v1-0"
    ],
    "vcpuNum": 0
   },
   {
    "_defaultOrder": 21,
    "_isFastLaunch": true,
    "category": "Compute optimized",
    "gpuNum": 0,
    "hideHardwareSpecs": false,
    "memoryGiB": 4,
    "name": "ml.c5.large",
    "vcpuNum": 2
   },
   {
    "_defaultOrder": 22,
    "_isFastLaunch": false,
    "category": "Compute optimized",
    "gpuNum": 0,
    "hideHardwareSpecs": false,
    "memoryGiB": 8,
    "name": "ml.c5.xlarge",
    "vcpuNum": 4
   },
   {
    "_defaultOrder": 23,
    "_isFastLaunch": false,
    "category": "Compute optimized",
    "gpuNum": 0,
    "hideHardwareSpecs": false,
    "memoryGiB": 16,
    "name": "ml.c5.2xlarge",
    "vcpuNum": 8
   },
   {
    "_defaultOrder": 24,
    "_isFastLaunch": false,
    "category": "Compute optimized",
    "gpuNum": 0,
    "hideHardwareSpecs": false,
    "memoryGiB": 32,
    "name": "ml.c5.4xlarge",
    "vcpuNum": 16
   },
   {
    "_defaultOrder": 25,
    "_isFastLaunch": false,
    "category": "Compute optimized",
    "gpuNum": 0,
    "hideHardwareSpecs": false,
    "memoryGiB": 72,
    "name": "ml.c5.9xlarge",
    "vcpuNum": 36
   },
   {
    "_defaultOrder": 26,
    "_isFastLaunch": false,
    "category": "Compute optimized",
    "gpuNum": 0,
    "hideHardwareSpecs": false,
    "memoryGiB": 96,
    "name": "ml.c5.12xlarge",
    "vcpuNum": 48
   },
   {
    "_defaultOrder": 27,
    "_isFastLaunch": false,
    "category": "Compute optimized",
    "gpuNum": 0,
    "hideHardwareSpecs": false,
    "memoryGiB": 144,
    "name": "ml.c5.18xlarge",
    "vcpuNum": 72
   },
   {
    "_defaultOrder": 28,
    "_isFastLaunch": false,
    "category": "Compute optimized",
    "gpuNum": 0,
    "hideHardwareSpecs": false,
    "memoryGiB": 192,
    "name": "ml.c5.24xlarge",
    "vcpuNum": 96
   },
   {
    "_defaultOrder": 29,
    "_isFastLaunch": true,
    "category": "Accelerated computing",
    "gpuNum": 1,
    "hideHardwareSpecs": false,
    "memoryGiB": 16,
    "name": "ml.g4dn.xlarge",
    "vcpuNum": 4
   },
   {
    "_defaultOrder": 30,
    "_isFastLaunch": false,
    "category": "Accelerated computing",
    "gpuNum": 1,
    "hideHardwareSpecs": false,
    "memoryGiB": 32,
    "name": "ml.g4dn.2xlarge",
    "vcpuNum": 8
   },
   {
    "_defaultOrder": 31,
    "_isFastLaunch": false,
    "category": "Accelerated computing",
    "gpuNum": 1,
    "hideHardwareSpecs": false,
    "memoryGiB": 64,
    "name": "ml.g4dn.4xlarge",
    "vcpuNum": 16
   },
   {
    "_defaultOrder": 32,
    "_isFastLaunch": false,
    "category": "Accelerated computing",
    "gpuNum": 1,
    "hideHardwareSpecs": false,
    "memoryGiB": 128,
    "name": "ml.g4dn.8xlarge",
    "vcpuNum": 32
   },
   {
    "_defaultOrder": 33,
    "_isFastLaunch": false,
    "category": "Accelerated computing",
    "gpuNum": 4,
    "hideHardwareSpecs": false,
    "memoryGiB": 192,
    "name": "ml.g4dn.12xlarge",
    "vcpuNum": 48
   },
   {
    "_defaultOrder": 34,
    "_isFastLaunch": false,
    "category": "Accelerated computing",
    "gpuNum": 1,
    "hideHardwareSpecs": false,
    "memoryGiB": 256,
    "name": "ml.g4dn.16xlarge",
    "vcpuNum": 64
   },
   {
    "_defaultOrder": 35,
    "_isFastLaunch": false,
    "category": "Accelerated computing",
    "gpuNum": 1,
    "hideHardwareSpecs": false,
    "memoryGiB": 61,
    "name": "ml.p3.2xlarge",
    "vcpuNum": 8
   },
   {
    "_defaultOrder": 36,
    "_isFastLaunch": false,
    "category": "Accelerated computing",
    "gpuNum": 4,
    "hideHardwareSpecs": false,
    "memoryGiB": 244,
    "name": "ml.p3.8xlarge",
    "vcpuNum": 32
   },
   {
    "_defaultOrder": 37,
    "_isFastLaunch": false,
    "category": "Accelerated computing",
    "gpuNum": 8,
    "hideHardwareSpecs": false,
    "memoryGiB": 488,
    "name": "ml.p3.16xlarge",
    "vcpuNum": 64
   },
   {
    "_defaultOrder": 38,
    "_isFastLaunch": false,
    "category": "Accelerated computing",
    "gpuNum": 8,
    "hideHardwareSpecs": false,
    "memoryGiB": 768,
    "name": "ml.p3dn.24xlarge",
    "vcpuNum": 96
   },
   {
    "_defaultOrder": 39,
    "_isFastLaunch": false,
    "category": "Memory Optimized",
    "gpuNum": 0,
    "hideHardwareSpecs": false,
    "memoryGiB": 16,
    "name": "ml.r5.large",
    "vcpuNum": 2
   },
   {
    "_defaultOrder": 40,
    "_isFastLaunch": false,
    "category": "Memory Optimized",
    "gpuNum": 0,
    "hideHardwareSpecs": false,
    "memoryGiB": 32,
    "name": "ml.r5.xlarge",
    "vcpuNum": 4
   },
   {
    "_defaultOrder": 41,
    "_isFastLaunch": false,
    "category": "Memory Optimized",
    "gpuNum": 0,
    "hideHardwareSpecs": false,
    "memoryGiB": 64,
    "name": "ml.r5.2xlarge",
    "vcpuNum": 8
   },
   {
    "_defaultOrder": 42,
    "_isFastLaunch": false,
    "category": "Memory Optimized",
    "gpuNum": 0,
    "hideHardwareSpecs": false,
    "memoryGiB": 128,
    "name": "ml.r5.4xlarge",
    "vcpuNum": 16
   },
   {
    "_defaultOrder": 43,
    "_isFastLaunch": false,
    "category": "Memory Optimized",
    "gpuNum": 0,
    "hideHardwareSpecs": false,
    "memoryGiB": 256,
    "name": "ml.r5.8xlarge",
    "vcpuNum": 32
   },
   {
    "_defaultOrder": 44,
    "_isFastLaunch": false,
    "category": "Memory Optimized",
    "gpuNum": 0,
    "hideHardwareSpecs": false,
    "memoryGiB": 384,
    "name": "ml.r5.12xlarge",
    "vcpuNum": 48
   },
   {
    "_defaultOrder": 45,
    "_isFastLaunch": false,
    "category": "Memory Optimized",
    "gpuNum": 0,
    "hideHardwareSpecs": false,
    "memoryGiB": 512,
    "name": "ml.r5.16xlarge",
    "vcpuNum": 64
   },
   {
    "_defaultOrder": 46,
    "_isFastLaunch": false,
    "category": "Memory Optimized",
    "gpuNum": 0,
    "hideHardwareSpecs": false,
    "memoryGiB": 768,
    "name": "ml.r5.24xlarge",
    "vcpuNum": 96
   },
   {
    "_defaultOrder": 47,
    "_isFastLaunch": false,
    "category": "Accelerated computing",
    "gpuNum": 1,
    "hideHardwareSpecs": false,
    "memoryGiB": 16,
    "name": "ml.g5.xlarge",
    "vcpuNum": 4
   },
   {
    "_defaultOrder": 48,
    "_isFastLaunch": false,
    "category": "Accelerated computing",
    "gpuNum": 1,
    "hideHardwareSpecs": false,
    "memoryGiB": 32,
    "name": "ml.g5.2xlarge",
    "vcpuNum": 8
   },
   {
    "_defaultOrder": 49,
    "_isFastLaunch": false,
    "category": "Accelerated computing",
    "gpuNum": 1,
    "hideHardwareSpecs": false,
    "memoryGiB": 64,
    "name": "ml.g5.4xlarge",
    "vcpuNum": 16
   },
   {
    "_defaultOrder": 50,
    "_isFastLaunch": false,
    "category": "Accelerated computing",
    "gpuNum": 1,
    "hideHardwareSpecs": false,
    "memoryGiB": 128,
    "name": "ml.g5.8xlarge",
    "vcpuNum": 32
   },
   {
    "_defaultOrder": 51,
    "_isFastLaunch": false,
    "category": "Accelerated computing",
    "gpuNum": 1,
    "hideHardwareSpecs": false,
    "memoryGiB": 256,
    "name": "ml.g5.16xlarge",
    "vcpuNum": 64
   },
   {
    "_defaultOrder": 52,
    "_isFastLaunch": false,
    "category": "Accelerated computing",
    "gpuNum": 4,
    "hideHardwareSpecs": false,
    "memoryGiB": 192,
    "name": "ml.g5.12xlarge",
    "vcpuNum": 48
   },
   {
    "_defaultOrder": 53,
    "_isFastLaunch": false,
    "category": "Accelerated computing",
    "gpuNum": 4,
    "hideHardwareSpecs": false,
    "memoryGiB": 384,
    "name": "ml.g5.24xlarge",
    "vcpuNum": 96
   },
   {
    "_defaultOrder": 54,
    "_isFastLaunch": false,
    "category": "Accelerated computing",
    "gpuNum": 8,
    "hideHardwareSpecs": false,
    "memoryGiB": 768,
    "name": "ml.g5.48xlarge",
    "vcpuNum": 192
   },
   {
    "_defaultOrder": 55,
    "_isFastLaunch": false,
    "category": "Accelerated computing",
    "gpuNum": 8,
    "hideHardwareSpecs": false,
    "memoryGiB": 1152,
    "name": "ml.p4d.24xlarge",
    "vcpuNum": 96
   },
   {
    "_defaultOrder": 56,
    "_isFastLaunch": false,
    "category": "Accelerated computing",
    "gpuNum": 8,
    "hideHardwareSpecs": false,
    "memoryGiB": 1152,
    "name": "ml.p4de.24xlarge",
    "vcpuNum": 96
   }
  ],
  "instance_type": "ml.t3.medium",
  "kernelspec": {
   "display_name": "Python 3 (Data Science 3.0)",
   "language": "python",
   "name": "python3__SAGEMAKER_INTERNAL__arn:aws:sagemaker:us-east-1:081325390199:image/sagemaker-data-science-310-v1"
  },
  "language_info": {
   "codemirror_mode": {
    "name": "ipython",
    "version": 3
   },
   "file_extension": ".py",
   "mimetype": "text/x-python",
   "name": "python",
   "nbconvert_exporter": "python",
   "pygments_lexer": "ipython3",
   "version": "3.10.6"
  }
 },
 "nbformat": 4,
 "nbformat_minor": 5
}
