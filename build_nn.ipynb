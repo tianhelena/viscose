{
 "cells": [
  {
   "cell_type": "code",
   "execution_count": 83,
   "metadata": {},
   "outputs": [],
   "source": [
    "from collections import Counter\n",
    "\n",
    "# Sample corpus and tokenization\n",
    "corpus = [\n",
    "    \"hello world program\",\n",
    "    \"hello world\",\n",
    "    \"programming in python\",\n",
    "    \"hello programming\",\n",
    "    \"world of programming\"\n",
    "]\n"
   ]
  },
  {
   "cell_type": "code",
   "execution_count": 84,
   "metadata": {},
   "outputs": [
    {
     "name": "stdout",
     "output_type": "stream",
     "text": [
      "{'hello': 1, 'world': 2, 'programming': 3, 'pro': 4, 'prog': 5, 'progr': 6, 'progra': 7, 'program': 8, 'rog': 9, 'rogr': 10, 'rogra': 11, 'rogram': 12, 'ogr': 13, 'ogra': 14, 'ogram': 15, 'gra': 16, 'gram': 17, 'ram': 18}\n"
     ]
    }
   ],
   "source": [
    "def calculate_frequencies_and_vocab(corpus, n=3, word_freq_threshold=3, subword_freq_threshold=4):\n",
    "    word_counter = Counter()\n",
    "    subword_counter = Counter()\n",
    "    vocab = {}\n",
    "    idx = 1\n",
    "\n",
    "    for text in corpus:\n",
    "        words = text.split()\n",
    "        word_counter.update(words)\n",
    "        for word in words:\n",
    "            for i in range(len(word)):\n",
    "                for j in range(i + n , len(word) + 1):\n",
    "                    subword = word[i:j]\n",
    "                    subword_counter[subword] += 1\n",
    "    \n",
    "    # Add words to vocab\n",
    "    for word in word_counter:\n",
    "        if word_counter[word] >= word_freq_threshold:\n",
    "            vocab[word] = idx\n",
    "            idx += 1\n",
    "\n",
    "    # Add subwords to vocab\n",
    "    for subword in subword_counter:\n",
    "        if subword_counter[subword] >= subword_freq_threshold:\n",
    "            if subword not in vocab:\n",
    "                vocab[subword] = idx\n",
    "                idx += 1\n",
    "                \n",
    "    return word_counter, subword_counter, vocab\n",
    "\n",
    "word_counter, subword_counter, vocab = calculate_frequencies_and_vocab(corpus)\n",
    "\n",
    "print(vocab)"
   ]
  },
  {
   "cell_type": "code",
   "execution_count": 85,
   "metadata": {},
   "outputs": [],
   "source": [
    "def tokenization_based_on_vocab(text, vocab, n=3):\n",
    "    \"\"\"\n",
    "    Returns:\n",
    "    - List[str]: A list of tokens (whole words or subwords) present in the vocabulary.\n",
    "    \"\"\"\n",
    "    words = text.split()\n",
    "    tokens = []\n",
    "\n",
    "    for word in words:\n",
    "        if word in vocab:\n",
    "            # If the whole word is in the vocabulary, keep it\n",
    "            tokens.append(word)\n",
    "        else:\n",
    "            # Break the word into subwords and keep those that are in the vocabulary\n",
    "            subwords = []\n",
    "            word_length = len(word)\n",
    "            for i in range(word_length):\n",
    "                for j in range(i + 1, min(i + n + 1, word_length + 1)):\n",
    "                    subword = word[i:j]\n",
    "                    if subword in vocab:\n",
    "                        subwords.append(subword)\n",
    "            \n",
    "            if subwords:\n",
    "                # If any meaningful subwords are found, add them\n",
    "                tokens.extend(subwords)\n",
    "            else:\n",
    "                # If no meaningful subwords are found, keep the whole word (fallback)\n",
    "                tokens.append(word)\n",
    "\n",
    "    return tokens"
   ]
  },
  {
   "cell_type": "code",
   "execution_count": 86,
   "metadata": {},
   "outputs": [
    {
     "data": {
      "text/plain": [
       "['hello', 'world', 'program', 'rog', 'rog', 'ogr']"
      ]
     },
     "execution_count": 86,
     "metadata": {},
     "output_type": "execute_result"
    }
   ],
   "source": [
    "text = \"hello world program roggg rogrr\"\n",
    "tokens = tokenization_based_on_vocab(\n",
    "    text,\n",
    "    vocab,\n",
    "    n=3\n",
    ")\n",
    "tokens"
   ]
  },
  {
   "cell_type": "code",
   "execution_count": 87,
   "metadata": {},
   "outputs": [],
   "source": [
    "\n",
    "\n",
    "def numericalize(tokens, vocab):\n",
    "    \"\"\"Convert tokens to numerical format using the vocabulary.\"\"\"\n",
    "    return [vocab[token] for token in tokens if token in vocab]\n",
    "\n",
    "# Tokenize and convert to numerical format\n",
    "tokenized_texts = [tokenization_based_on_vocab(text, vocab,3) for text in corpus]\n",
    "numerical_data = [numericalize(tokens, vocab) for tokens in tokenized_texts]\n",
    "\n"
   ]
  },
  {
   "cell_type": "code",
   "execution_count": 88,
   "metadata": {},
   "outputs": [
    {
     "data": {
      "text/plain": [
       "[[1, 2, 8], [1, 2], [3], [1, 3], [2, 3]]"
      ]
     },
     "execution_count": 88,
     "metadata": {},
     "output_type": "execute_result"
    }
   ],
   "source": [
    "numerical_data"
   ]
  },
  {
   "cell_type": "code",
   "execution_count": 89,
   "metadata": {},
   "outputs": [],
   "source": [
    "def pad_sequence(seq, max_len, pad_idx):\n",
    "    \"\"\"Pad sequences to ensure they have the same length.\"\"\"\n",
    "    return seq + [pad_idx] * (max_len - len(seq))\n",
    "\n",
    "max_len = max(len(x) for x in numerical_data)\n",
    "padded_data = [pad_sequence(x, max_len, 0) for x in numerical_data]"
   ]
  },
  {
   "cell_type": "code",
   "execution_count": 90,
   "metadata": {},
   "outputs": [
    {
     "data": {
      "text/plain": [
       "[[1, 2, 8], [1, 2, 0], [3, 0, 0], [1, 3, 0], [2, 3, 0]]"
      ]
     },
     "execution_count": 90,
     "metadata": {},
     "output_type": "execute_result"
    }
   ],
   "source": [
    "padded_data"
   ]
  },
  {
   "cell_type": "code",
   "execution_count": 91,
   "metadata": {},
   "outputs": [],
   "source": [
    "from collections import Counter\n",
    "import torch\n",
    "import torch.nn as nn\n",
    "import torch.optim as optim\n",
    "from torch.utils.data import DataLoader, TensorDataset"
   ]
  },
  {
   "cell_type": "code",
   "execution_count": 92,
   "metadata": {},
   "outputs": [],
   "source": [
    "X_tensor = torch.tensor(padded_data)\n",
    "y_tensor = torch.tensor([0, 0, 1, 1, 1])  # Example labels\n",
    "\n",
    "# Create a DataLoader\n",
    "dataset = TensorDataset(X_tensor, y_tensor)\n",
    "data_loader = DataLoader(dataset, batch_size=2, shuffle=True)"
   ]
  },
  {
   "cell_type": "code",
   "execution_count": 93,
   "metadata": {},
   "outputs": [
    {
     "name": "stdout",
     "output_type": "stream",
     "text": [
      "<torch.utils.data.dataset.TensorDataset object at 0x111b4f730>\n"
     ]
    }
   ],
   "source": [
    "print(dataset)"
   ]
  },
  {
   "cell_type": "code",
   "execution_count": 94,
   "metadata": {},
   "outputs": [
    {
     "name": "stdout",
     "output_type": "stream",
     "text": [
      "Epoch 1, Loss: 0.594802975654602\n",
      "Epoch 2, Loss: 0.5171931783358256\n",
      "Epoch 3, Loss: 0.5002211729685465\n",
      "Epoch 4, Loss: 0.4825428823630015\n",
      "Epoch 5, Loss: 0.49384214480717975\n",
      "Epoch 6, Loss: 0.532062957684199\n",
      "Epoch 7, Loss: 0.466621736685435\n",
      "Epoch 8, Loss: 0.4489479462305705\n",
      "Epoch 9, Loss: 0.4357536832491557\n",
      "Epoch 10, Loss: 0.4169475535551707\n"
     ]
    }
   ],
   "source": [
    "class ClassificationModel(nn.Module):\n",
    "    def __init__(self, vocab_size, embedding_dim, output_dim, pad_idx):\n",
    "        super(ClassificationModel, self).__init__()\n",
    "        self.embedding = nn.Embedding(vocab_size + 1, embedding_dim, padding_idx=pad_idx)\n",
    "        self.fc = nn.Linear(embedding_dim, output_dim)\n",
    "\n",
    "    def forward(self, text):\n",
    "        embedded = self.embedding(text)  # [batch size, sent_len, emb_dim]\n",
    "        pooled = embedded.mean(dim=1)    # Average pooling\n",
    "        return self.fc(pooled)\n",
    "\n",
    "# Model hyperparameters\n",
    "vocab_size = len(vocab)\n",
    "embedding_dim = 50\n",
    "output_dim = 2  # For binary classification\n",
    "pad_idx = 0  # Padding index set to the last index\n",
    "\n",
    "# Initialize the model\n",
    "model = ClassificationModel(vocab_size, embedding_dim, output_dim, pad_idx)\n",
    "\n",
    "# Step 6: Train the model\n",
    "\n",
    "# Loss and optimizer\n",
    "criterion = nn.CrossEntropyLoss()\n",
    "optimizer = optim.Adam(model.parameters(), lr=0.001)\n",
    "\n",
    "# Training loop\n",
    "epochs = 10\n",
    "for epoch in range(epochs):\n",
    "    epoch_loss = 0\n",
    "    model.train()\n",
    "    \n",
    "    for batch in data_loader:\n",
    "        text, labels = batch\n",
    "        \n",
    "        # Zero gradients\n",
    "        optimizer.zero_grad()\n",
    "        \n",
    "        # Forward pass\n",
    "        predictions = model(text)\n",
    "        \n",
    "        # Compute loss\n",
    "        loss = criterion(predictions, labels)\n",
    "        loss.backward()\n",
    "        optimizer.step()\n",
    "        \n",
    "        # Update loss\n",
    "        epoch_loss += loss.item()\n",
    "    \n",
    "    print(f\"Epoch {epoch+1}, Loss: {epoch_loss/len(data_loader)}\")"
   ]
  },
  {
   "cell_type": "code",
   "execution_count": 78,
   "metadata": {},
   "outputs": [
    {
     "data": {
      "text/plain": [
       "ClassificationModel(\n",
       "  (embedding): Embedding(19, 50, padding_idx=0)\n",
       "  (fc): Linear(in_features=50, out_features=2, bias=True)\n",
       ")"
      ]
     },
     "execution_count": 78,
     "metadata": {},
     "output_type": "execute_result"
    }
   ],
   "source": [
    "model"
   ]
  },
  {
   "cell_type": "code",
   "execution_count": 95,
   "metadata": {},
   "outputs": [],
   "source": [
    "test_corpus = [\n",
    "    \"hello world\",\n",
    "    \"python programming\",\n",
    "    \"new unseen text\",\n",
    "    \"programming world\"\n",
    "]\n",
    "\n",
    "# Tokenize the test data using the same vocabulary and function\n",
    "test_tokenized_texts = [tokenization_based_on_vocab(text, vocab) for text in test_corpus]\n",
    "test_numerical_data = [numericalize(tokens, vocab) for tokens in test_tokenized_texts]\n",
    "\n",
    "# Pad sequences in the test data\n",
    "test_max_len = max(len(x) for x in test_numerical_data)\n",
    "test_padded_data = [pad_sequence(x, test_max_len, len(vocab)) for x in test_numerical_data]\n",
    "\n",
    "# Convert to PyTorch tensors\n",
    "X_test_tensor = torch.tensor(test_padded_data)\n",
    "y_test_tensor = torch.tensor([0, 1, 0, 1])  # Ex"
   ]
  },
  {
   "cell_type": "code",
   "execution_count": 96,
   "metadata": {},
   "outputs": [],
   "source": [
    "def evaluate_model_no_batch(model, X_test_tensor, y_test_tensor, criterion):\n",
    "    model.eval()  # Set the model to evaluation mode\n",
    "    total_loss = 0  # Initialize total loss\n",
    "    correct_predictions = 0  # Initialize correct predictions count\n",
    "    total_predictions = 0  # Initialize total predictions count\n",
    "\n",
    "    with torch.no_grad():  # Disable gradient computation\n",
    "        # Forward pass on the entire test data\n",
    "        predictions = model(X_test_tensor)\n",
    "        \n",
    "        # Compute loss for the entire batch\n",
    "        loss = criterion(predictions, y_test_tensor)\n",
    "        total_loss += loss.item()\n",
    "\n",
    "        # Get the predicted classes\n",
    "        predicted_labels = torch.argmax(predictions, dim=1)\n",
    "\n",
    "        # Count correct predictions\n",
    "        correct_predictions = (predicted_labels == y_test_tensor).sum().item()\n",
    "        total_predictions = y_test_tensor.size(0)\n",
    "\n",
    "    # Compute average loss and accuracy\n",
    "    avg_loss = total_loss\n",
    "    accuracy = correct_predictions / total_predictions\n",
    "\n",
    "    return avg_loss, accuracy\n"
   ]
  },
  {
   "cell_type": "code",
   "execution_count": 97,
   "metadata": {},
   "outputs": [
    {
     "name": "stdout",
     "output_type": "stream",
     "text": [
      "Test Loss: 0.5434, Test Accuracy: 0.7500\n"
     ]
    }
   ],
   "source": [
    "test_loss, test_accuracy = evaluate_model(model, test_data_loader, criterion)\n",
    "print(f\"Test Loss: {test_loss:.4f}, Test Accuracy: {test_accuracy:.4f}\")\n"
   ]
  }
 ],
 "metadata": {
  "kernelspec": {
   "display_name": "Python 3",
   "language": "python",
   "name": "python3"
  },
  "language_info": {
   "codemirror_mode": {
    "name": "ipython",
    "version": 3
   },
   "file_extension": ".py",
   "mimetype": "text/x-python",
   "name": "python",
   "nbconvert_exporter": "python",
   "pygments_lexer": "ipython3",
   "version": "3.9.6"
  }
 },
 "nbformat": 4,
 "nbformat_minor": 2
}
